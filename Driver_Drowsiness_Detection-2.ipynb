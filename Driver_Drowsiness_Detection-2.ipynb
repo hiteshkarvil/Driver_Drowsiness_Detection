{
 "cells": [
  {
   "cell_type": "code",
   "execution_count": 7,
   "id": "5fdc5eb9",
   "metadata": {},
   "outputs": [
    {
     "name": "stdout",
     "output_type": "stream",
     "text": [
      "Requirement already satisfied: opencv-python in /opt/anaconda3/lib/python3.12/site-packages (4.11.0.86)\r\n",
      "Requirement already satisfied: dlib in /opt/anaconda3/lib/python3.12/site-packages (19.24.6)\r\n",
      "Requirement already satisfied: scipy in /opt/anaconda3/lib/python3.12/site-packages (1.13.1)\r\n",
      "Requirement already satisfied: imutils in /opt/anaconda3/lib/python3.12/site-packages (0.5.4)\r\n",
      "Requirement already satisfied: pygame in /opt/anaconda3/lib/python3.12/site-packages (2.6.1)\r\n",
      "Requirement already satisfied: numpy>=1.21.2 in /opt/anaconda3/lib/python3.12/site-packages (from opencv-python) (1.26.4)\r\n"
     ]
    }
   ],
   "source": [
    "!pip install opencv-python dlib scipy imutils pygame"
   ]
  },
  {
   "cell_type": "code",
   "execution_count": 8,
   "id": "f540fc58",
   "metadata": {},
   "outputs": [],
   "source": [
    "import cv2\n",
    "import dlib\n",
    "import time\n",
    "import pygame\n",
    "from scipy.spatial import distance\n",
    "from imutils import face_utils\n"
   ]
  },
  {
   "cell_type": "code",
   "execution_count": 9,
   "id": "558a31b1",
   "metadata": {},
   "outputs": [
    {
     "data": {
      "text/plain": [
       "'/Users/s.hiteshkarvil'"
      ]
     },
     "execution_count": 9,
     "metadata": {},
     "output_type": "execute_result"
    }
   ],
   "source": [
    "import os\n",
    "os.getcwd()\n"
   ]
  },
  {
   "cell_type": "code",
   "execution_count": 10,
   "id": "eb99ed31",
   "metadata": {},
   "outputs": [],
   "source": [
    "pygame.mixer.init()\n",
    "pygame.mixer.music.load(\"/Users/s.hiteshkarvil/Driver_Drowsiness_Detection/alarm.mp3\")"
   ]
  },
  {
   "cell_type": "code",
   "execution_count": 11,
   "id": "d6f3f60b",
   "metadata": {},
   "outputs": [],
   "source": [
    "def eye_aspect_ratio(eye):\n",
    "    A = distance.euclidean(eye[1], eye[5])  # vertical\n",
    "    B = distance.euclidean(eye[2], eye[4])  # vertical\n",
    "    C = distance.euclidean(eye[0], eye[3])  # horizontal\n",
    "    return (A + B) / (2.0 * C)"
   ]
  },
  {
   "cell_type": "code",
   "execution_count": 12,
   "id": "cf17d208",
   "metadata": {},
   "outputs": [
    {
     "name": "stdout",
     "output_type": "stream",
     "text": [
      "[INFO] Loading the predictor and detector...\n"
     ]
    }
   ],
   "source": [
    "# EAR threshold and number of consecutive frames the eyes must be below the threshold\n",
    "EAR_THRESHOLD = 0.25\n",
    "EAR_CONSEC_FRAMES = 20\n",
    "\n",
    "# Frame counter and alarm flag\n",
    "counter = 0\n",
    "alarm_on = False\n",
    "\n",
    "# Load dlib's face detector and facial landmark predictor\n",
    "print(\"[INFO] Loading the predictor and detector...\")\n",
    "detector = dlib.get_frontal_face_detector()\n",
    "predictor = dlib.shape_predictor(\"/Users/s.hiteshkarvil/Desktop/Driver_Drowsiness_Detection/shape_predictor_68_face_landmarks.dat\")\n",
    "\n",
    "# Get indexes for the left and right eye\n",
    "(lStart, lEnd) = face_utils.FACIAL_LANDMARKS_IDXS[\"left_eye\"]\n",
    "(rStart, rEnd) = face_utils.FACIAL_LANDMARKS_IDXS[\"right_eye\"]\n"
   ]
  },
  {
   "cell_type": "code",
   "execution_count": 14,
   "id": "de2d98ea",
   "metadata": {},
   "outputs": [
    {
     "name": "stdout",
     "output_type": "stream",
     "text": [
      "[INFO] Starting video stream...\n"
     ]
    },
    {
     "name": "stderr",
     "output_type": "stream",
     "text": [
      "2025-04-07 16:20:27.352 python[44358:7137818] +[IMKClient subclass]: chose IMKClient_Modern\n",
      "2025-04-07 16:20:27.353 python[44358:7137818] +[IMKInputSession subclass]: chose IMKInputSession_Modern\n"
     ]
    }
   ],
   "source": [
    "# Start video stream\n",
    "print(\"[INFO] Starting video stream...\")\n",
    "cap = cv2.VideoCapture(0)\n",
    "time.sleep(1.0)\n",
    "\n",
    "while True:\n",
    "    ret, frame = cap.read()\n",
    "    if not ret:\n",
    "        break\n",
    "    \n",
    "    gray = cv2.cvtColor(frame, cv2.COLOR_BGR2GRAY)\n",
    "    rects = detector(gray, 0)\n",
    "\n",
    "    for rect in rects:\n",
    "        shape = predictor(gray, rect)\n",
    "        shape = face_utils.shape_to_np(shape)\n",
    "\n",
    "        leftEye = shape[lStart:lEnd]\n",
    "        rightEye = shape[rStart:rEnd]\n",
    "\n",
    "        leftEAR = eye_aspect_ratio(leftEye)\n",
    "        rightEAR = eye_aspect_ratio(rightEye)\n",
    "        ear = (leftEAR + rightEAR) / 2.0\n",
    "\n",
    "        # Draw eye contours\n",
    "        cv2.drawContours(frame, [cv2.convexHull(leftEye)], -1, (0, 255, 0), 1)\n",
    "        cv2.drawContours(frame, [cv2.convexHull(rightEye)], -1, (0, 255, 0), 1)\n",
    "\n",
    "        # Drowsiness detection logic\n",
    "        if ear < EAR_THRESHOLD:\n",
    "            counter += 1\n",
    "            if counter >= EAR_CONSEC_FRAMES:\n",
    "                if not alarm_on:\n",
    "                    alarm_on = True\n",
    "                    pygame.mixer.music.play(-1)\n",
    "                cv2.putText(frame, \"DROWSINESS ALERT!\", (10, 30),\n",
    "                            cv2.FONT_HERSHEY_SIMPLEX, 0.7, (0, 0, 255), 2)\n",
    "        else:\n",
    "            counter = 0\n",
    "            if alarm_on:\n",
    "                alarm_on = False\n",
    "                pygame.mixer.music.stop()\n",
    "\n",
    "        # Display EAR\n",
    "        cv2.putText(frame, f\"EAR: {ear:.2f}\", (300, 30),\n",
    "                    cv2.FONT_HERSHEY_SIMPLEX, 0.7, (255, 255, 255), 1)\n",
    "\n",
    "    # Show frame\n",
    "    cv2.imshow(\"Driver Drowsiness Detection\", frame)\n",
    "\n",
    "    # Exit on 'q'\n",
    "    if cv2.waitKey(1) & 0xFF == ord('q'):\n",
    "        break\n",
    "\n",
    "# Cleanup\n",
    "cap.release()\n",
    "cv2.destroyAllWindows()\n",
    "pygame.mixer.quit()\n"
   ]
  },
  {
   "cell_type": "code",
   "execution_count": null,
   "id": "83c43257",
   "metadata": {},
   "outputs": [],
   "source": []
  },
  {
   "cell_type": "code",
   "execution_count": null,
   "id": "b6e96f18",
   "metadata": {},
   "outputs": [],
   "source": []
  },
  {
   "cell_type": "code",
   "execution_count": 13,
   "id": "9ddafff2",
   "metadata": {},
   "outputs": [],
   "source": []
  },
  {
   "cell_type": "code",
   "execution_count": null,
   "id": "849e104e",
   "metadata": {},
   "outputs": [],
   "source": []
  }
 ],
 "metadata": {
  "kernelspec": {
   "display_name": "Python 3 (ipykernel)",
   "language": "python",
   "name": "python3"
  },
  "language_info": {
   "codemirror_mode": {
    "name": "ipython",
    "version": 3
   },
   "file_extension": ".py",
   "mimetype": "text/x-python",
   "name": "python",
   "nbconvert_exporter": "python",
   "pygments_lexer": "ipython3",
   "version": "3.11.5"
  }
 },
 "nbformat": 4,
 "nbformat_minor": 5
}
